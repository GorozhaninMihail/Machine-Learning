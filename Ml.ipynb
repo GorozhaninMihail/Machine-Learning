{
 "cells": [
  {
   "cell_type": "code",
   "execution_count": 1,
   "metadata": {},
   "outputs": [],
   "source": [
    "import numpy as np\n",
    "import matplotlib.pyplot as plt\n",
    "import pandas as pd\n",
    "%matplotlib inline"
   ]
  },
  {
   "cell_type": "code",
   "execution_count": 2,
   "metadata": {},
   "outputs": [],
   "source": [
    "#Чтение данных из файла\n",
    "data = pd.read_csv('data/london_crime_test.csv', sep = ',', engine = 'python')"
   ]
  },
  {
   "cell_type": "code",
   "execution_count": 3,
   "metadata": {},
   "outputs": [
    {
     "data": {
      "text/plain": [
       "pandas.core.frame.DataFrame"
      ]
     },
     "execution_count": 3,
     "metadata": {},
     "output_type": "execute_result"
    }
   ],
   "source": [
    "type(data)"
   ]
  },
  {
   "cell_type": "code",
   "execution_count": 4,
   "metadata": {},
   "outputs": [
    {
     "data": {
      "text/html": [
       "<div>\n",
       "<style scoped>\n",
       "    .dataframe tbody tr th:only-of-type {\n",
       "        vertical-align: middle;\n",
       "    }\n",
       "\n",
       "    .dataframe tbody tr th {\n",
       "        vertical-align: top;\n",
       "    }\n",
       "\n",
       "    .dataframe thead th {\n",
       "        text-align: right;\n",
       "    }\n",
       "</style>\n",
       "<table border=\"1\" class=\"dataframe\">\n",
       "  <thead>\n",
       "    <tr style=\"text-align: right;\">\n",
       "      <th></th>\n",
       "      <th>lsoa_code</th>\n",
       "      <th>borough</th>\n",
       "      <th>major_category</th>\n",
       "      <th>minor_category</th>\n",
       "      <th>value</th>\n",
       "      <th>year</th>\n",
       "      <th>month</th>\n",
       "    </tr>\n",
       "  </thead>\n",
       "  <tbody>\n",
       "    <tr>\n",
       "      <td>0</td>\n",
       "      <td>E01001116</td>\n",
       "      <td>Croydon</td>\n",
       "      <td>Burglary</td>\n",
       "      <td>Burglary in Other Buildings</td>\n",
       "      <td>0</td>\n",
       "      <td>2016</td>\n",
       "      <td>11</td>\n",
       "    </tr>\n",
       "    <tr>\n",
       "      <td>1</td>\n",
       "      <td>E01001646</td>\n",
       "      <td>Greenwich</td>\n",
       "      <td>Violence Against the Person</td>\n",
       "      <td>Other violence</td>\n",
       "      <td>0</td>\n",
       "      <td>2016</td>\n",
       "      <td>11</td>\n",
       "    </tr>\n",
       "    <tr>\n",
       "      <td>2</td>\n",
       "      <td>E01000677</td>\n",
       "      <td>Bromley</td>\n",
       "      <td>Violence Against the Person</td>\n",
       "      <td>Other violence</td>\n",
       "      <td>0</td>\n",
       "      <td>2015</td>\n",
       "      <td>5</td>\n",
       "    </tr>\n",
       "    <tr>\n",
       "      <td>3</td>\n",
       "      <td>E01003774</td>\n",
       "      <td>Redbridge</td>\n",
       "      <td>Burglary</td>\n",
       "      <td>Burglary in Other Buildings</td>\n",
       "      <td>0</td>\n",
       "      <td>2016</td>\n",
       "      <td>3</td>\n",
       "    </tr>\n",
       "    <tr>\n",
       "      <td>4</td>\n",
       "      <td>E01004563</td>\n",
       "      <td>Wandsworth</td>\n",
       "      <td>Robbery</td>\n",
       "      <td>Personal Property</td>\n",
       "      <td>0</td>\n",
       "      <td>2008</td>\n",
       "      <td>6</td>\n",
       "    </tr>\n",
       "    <tr>\n",
       "      <td>...</td>\n",
       "      <td>...</td>\n",
       "      <td>...</td>\n",
       "      <td>...</td>\n",
       "      <td>...</td>\n",
       "      <td>...</td>\n",
       "      <td>...</td>\n",
       "      <td>...</td>\n",
       "    </tr>\n",
       "    <tr>\n",
       "      <td>39994</td>\n",
       "      <td>E01004286</td>\n",
       "      <td>Tower Hamlets</td>\n",
       "      <td>Theft and Handling</td>\n",
       "      <td>Theft From Shops</td>\n",
       "      <td>0</td>\n",
       "      <td>2013</td>\n",
       "      <td>1</td>\n",
       "    </tr>\n",
       "    <tr>\n",
       "      <td>39995</td>\n",
       "      <td>E01001830</td>\n",
       "      <td>Hackney</td>\n",
       "      <td>Robbery</td>\n",
       "      <td>Personal Property</td>\n",
       "      <td>0</td>\n",
       "      <td>2014</td>\n",
       "      <td>8</td>\n",
       "    </tr>\n",
       "    <tr>\n",
       "      <td>39996</td>\n",
       "      <td>E01003484</td>\n",
       "      <td>Newham</td>\n",
       "      <td>Burglary</td>\n",
       "      <td>Burglary in a Dwelling</td>\n",
       "      <td>0</td>\n",
       "      <td>2010</td>\n",
       "      <td>11</td>\n",
       "    </tr>\n",
       "    <tr>\n",
       "      <td>39997</td>\n",
       "      <td>E01001460</td>\n",
       "      <td>Enfield</td>\n",
       "      <td>Drugs</td>\n",
       "      <td>Drug Trafficking</td>\n",
       "      <td>0</td>\n",
       "      <td>2013</td>\n",
       "      <td>8</td>\n",
       "    </tr>\n",
       "    <tr>\n",
       "      <td>39998</td>\n",
       "      <td>E01003387</td>\n",
       "      <td>Merton</td>\n",
       "      <td>Theft and Handling</td>\n",
       "      <td>Theft/Taking of Pedal Cycle</td>\n",
       "      <td>0</td>\n",
       "      <td>2014</td>\n",
       "      <td>4</td>\n",
       "    </tr>\n",
       "  </tbody>\n",
       "</table>\n",
       "<p>39999 rows × 7 columns</p>\n",
       "</div>"
      ],
      "text/plain": [
       "       lsoa_code        borough               major_category  \\\n",
       "0      E01001116        Croydon                     Burglary   \n",
       "1      E01001646      Greenwich  Violence Against the Person   \n",
       "2      E01000677        Bromley  Violence Against the Person   \n",
       "3      E01003774      Redbridge                     Burglary   \n",
       "4      E01004563     Wandsworth                      Robbery   \n",
       "...          ...            ...                          ...   \n",
       "39994  E01004286  Tower Hamlets           Theft and Handling   \n",
       "39995  E01001830        Hackney                      Robbery   \n",
       "39996  E01003484         Newham                     Burglary   \n",
       "39997  E01001460        Enfield                        Drugs   \n",
       "39998  E01003387         Merton           Theft and Handling   \n",
       "\n",
       "                    minor_category  value  year  month  \n",
       "0      Burglary in Other Buildings      0  2016     11  \n",
       "1                   Other violence      0  2016     11  \n",
       "2                   Other violence      0  2015      5  \n",
       "3      Burglary in Other Buildings      0  2016      3  \n",
       "4                Personal Property      0  2008      6  \n",
       "...                            ...    ...   ...    ...  \n",
       "39994             Theft From Shops      0  2013      1  \n",
       "39995            Personal Property      0  2014      8  \n",
       "39996       Burglary in a Dwelling      0  2010     11  \n",
       "39997             Drug Trafficking      0  2013      8  \n",
       "39998  Theft/Taking of Pedal Cycle      0  2014      4  \n",
       "\n",
       "[39999 rows x 7 columns]"
      ]
     },
     "execution_count": 4,
     "metadata": {},
     "output_type": "execute_result"
    }
   ],
   "source": [
    "data"
   ]
  },
  {
   "cell_type": "code",
   "execution_count": 5,
   "metadata": {},
   "outputs": [
    {
     "name": "stdout",
     "output_type": "stream",
     "text": [
      "       lsoa_code        borough               major_category  \\\n",
      "0      E01001116        Croydon                     Burglary   \n",
      "1      E01001646      Greenwich  Violence Against the Person   \n",
      "2      E01000677        Bromley  Violence Against the Person   \n",
      "3      E01003774      Redbridge                     Burglary   \n",
      "4      E01004563     Wandsworth                      Robbery   \n",
      "...          ...            ...                          ...   \n",
      "39994  E01004286  Tower Hamlets           Theft and Handling   \n",
      "39995  E01001830        Hackney                      Robbery   \n",
      "39996  E01003484         Newham                     Burglary   \n",
      "39997  E01001460        Enfield                        Drugs   \n",
      "39998  E01003387         Merton           Theft and Handling   \n",
      "\n",
      "                    minor_category  value  year  month  \n",
      "0      Burglary in Other Buildings      0  2016     11  \n",
      "1                   Other violence      0  2016     11  \n",
      "2                   Other violence      0  2015      5  \n",
      "3      Burglary in Other Buildings      0  2016      3  \n",
      "4                Personal Property      0  2008      6  \n",
      "...                            ...    ...   ...    ...  \n",
      "39994             Theft From Shops      0  2013      1  \n",
      "39995            Personal Property      0  2014      8  \n",
      "39996       Burglary in a Dwelling      0  2010     11  \n",
      "39997             Drug Trafficking      0  2013      8  \n",
      "39998  Theft/Taking of Pedal Cycle      0  2014      4  \n",
      "\n",
      "[39999 rows x 7 columns]\n"
     ]
    }
   ],
   "source": [
    "print(data)"
   ]
  },
  {
   "cell_type": "code",
   "execution_count": 6,
   "metadata": {},
   "outputs": [
    {
     "data": {
      "text/plain": [
       "Index(['lsoa_code', 'borough', 'major_category', 'minor_category', 'value',\n",
       "       'year', 'month'],\n",
       "      dtype='object')"
      ]
     },
     "execution_count": 6,
     "metadata": {},
     "output_type": "execute_result"
    }
   ],
   "source": [
    "data.columns"
   ]
  },
  {
   "cell_type": "code",
   "execution_count": 7,
   "metadata": {},
   "outputs": [
    {
     "data": {
      "text/html": [
       "<div>\n",
       "<style scoped>\n",
       "    .dataframe tbody tr th:only-of-type {\n",
       "        vertical-align: middle;\n",
       "    }\n",
       "\n",
       "    .dataframe tbody tr th {\n",
       "        vertical-align: top;\n",
       "    }\n",
       "\n",
       "    .dataframe thead th {\n",
       "        text-align: right;\n",
       "    }\n",
       "</style>\n",
       "<table border=\"1\" class=\"dataframe\">\n",
       "  <thead>\n",
       "    <tr style=\"text-align: right;\">\n",
       "      <th></th>\n",
       "      <th>lsoa_code</th>\n",
       "      <th>borough</th>\n",
       "      <th>major_category</th>\n",
       "      <th>minor_category</th>\n",
       "      <th>value</th>\n",
       "      <th>year</th>\n",
       "      <th>month</th>\n",
       "    </tr>\n",
       "  </thead>\n",
       "  <tbody>\n",
       "    <tr>\n",
       "      <td>0</td>\n",
       "      <td>E01001116</td>\n",
       "      <td>Croydon</td>\n",
       "      <td>Burglary</td>\n",
       "      <td>Burglary in Other Buildings</td>\n",
       "      <td>0</td>\n",
       "      <td>2016</td>\n",
       "      <td>11</td>\n",
       "    </tr>\n",
       "    <tr>\n",
       "      <td>1</td>\n",
       "      <td>E01001646</td>\n",
       "      <td>Greenwich</td>\n",
       "      <td>Violence Against the Person</td>\n",
       "      <td>Other violence</td>\n",
       "      <td>0</td>\n",
       "      <td>2016</td>\n",
       "      <td>11</td>\n",
       "    </tr>\n",
       "    <tr>\n",
       "      <td>2</td>\n",
       "      <td>E01000677</td>\n",
       "      <td>Bromley</td>\n",
       "      <td>Violence Against the Person</td>\n",
       "      <td>Other violence</td>\n",
       "      <td>0</td>\n",
       "      <td>2015</td>\n",
       "      <td>5</td>\n",
       "    </tr>\n",
       "    <tr>\n",
       "      <td>3</td>\n",
       "      <td>E01003774</td>\n",
       "      <td>Redbridge</td>\n",
       "      <td>Burglary</td>\n",
       "      <td>Burglary in Other Buildings</td>\n",
       "      <td>0</td>\n",
       "      <td>2016</td>\n",
       "      <td>3</td>\n",
       "    </tr>\n",
       "    <tr>\n",
       "      <td>4</td>\n",
       "      <td>E01004563</td>\n",
       "      <td>Wandsworth</td>\n",
       "      <td>Robbery</td>\n",
       "      <td>Personal Property</td>\n",
       "      <td>0</td>\n",
       "      <td>2008</td>\n",
       "      <td>6</td>\n",
       "    </tr>\n",
       "  </tbody>\n",
       "</table>\n",
       "</div>"
      ],
      "text/plain": [
       "   lsoa_code     borough               major_category  \\\n",
       "0  E01001116     Croydon                     Burglary   \n",
       "1  E01001646   Greenwich  Violence Against the Person   \n",
       "2  E01000677     Bromley  Violence Against the Person   \n",
       "3  E01003774   Redbridge                     Burglary   \n",
       "4  E01004563  Wandsworth                      Robbery   \n",
       "\n",
       "                minor_category  value  year  month  \n",
       "0  Burglary in Other Buildings      0  2016     11  \n",
       "1               Other violence      0  2016     11  \n",
       "2               Other violence      0  2015      5  \n",
       "3  Burglary in Other Buildings      0  2016      3  \n",
       "4            Personal Property      0  2008      6  "
      ]
     },
     "execution_count": 7,
     "metadata": {},
     "output_type": "execute_result"
    }
   ],
   "source": [
    "data.head()"
   ]
  },
  {
   "cell_type": "markdown",
   "metadata": {},
   "source": [
    "Attribute Information:\n",
    "\n",
    "- lsoa_code - Lower Layer Super Output Area code according to the Office for National Statistics\n",
    "- borough, categorical characteristic of the area of residence\n",
    "- major_category, categorical characteristic\n",
    "- minor_category, categorical characteristic \n",
    "- value, summary of the number of crimes for the month\n",
    "- year\n",
    "- month\n",
    "\n",
    "Prediction task: Determining the relationship of crime characteristics in London using statistical training models. For example, the dependence of the crime scene in the Westminster area on the types of crime and time."
   ]
  },
  {
   "cell_type": "code",
   "execution_count": 8,
   "metadata": {},
   "outputs": [
    {
     "name": "stdout",
     "output_type": "stream",
     "text": [
      "Размер выборки:  (39999, 7)\n",
      "Характеристики:  Index(['lsoa_code', 'borough', 'major_category', 'minor_category', 'value',\n",
      "       'year', 'month'],\n",
      "      dtype='object')\n"
     ]
    }
   ],
   "source": [
    "print('Размер выборки: ', data.shape)\n",
    "print('Характеристики: ', data.columns)"
   ]
  },
  {
   "cell_type": "code",
   "execution_count": 9,
   "metadata": {},
   "outputs": [
    {
     "data": {
      "text/html": [
       "<div>\n",
       "<style scoped>\n",
       "    .dataframe tbody tr th:only-of-type {\n",
       "        vertical-align: middle;\n",
       "    }\n",
       "\n",
       "    .dataframe tbody tr th {\n",
       "        vertical-align: top;\n",
       "    }\n",
       "\n",
       "    .dataframe thead th {\n",
       "        text-align: right;\n",
       "    }\n",
       "</style>\n",
       "<table border=\"1\" class=\"dataframe\">\n",
       "  <thead>\n",
       "    <tr style=\"text-align: right;\">\n",
       "      <th></th>\n",
       "      <th>value</th>\n",
       "      <th>year</th>\n",
       "      <th>month</th>\n",
       "    </tr>\n",
       "  </thead>\n",
       "  <tbody>\n",
       "    <tr>\n",
       "      <td>count</td>\n",
       "      <td>39999.000000</td>\n",
       "      <td>39999.000000</td>\n",
       "      <td>39999.000000</td>\n",
       "    </tr>\n",
       "    <tr>\n",
       "      <td>mean</td>\n",
       "      <td>0.483187</td>\n",
       "      <td>2011.976799</td>\n",
       "      <td>6.457936</td>\n",
       "    </tr>\n",
       "    <tr>\n",
       "      <td>std</td>\n",
       "      <td>1.714047</td>\n",
       "      <td>2.579253</td>\n",
       "      <td>3.437647</td>\n",
       "    </tr>\n",
       "    <tr>\n",
       "      <td>min</td>\n",
       "      <td>0.000000</td>\n",
       "      <td>2008.000000</td>\n",
       "      <td>1.000000</td>\n",
       "    </tr>\n",
       "    <tr>\n",
       "      <td>25%</td>\n",
       "      <td>0.000000</td>\n",
       "      <td>2010.000000</td>\n",
       "      <td>3.000000</td>\n",
       "    </tr>\n",
       "    <tr>\n",
       "      <td>50%</td>\n",
       "      <td>0.000000</td>\n",
       "      <td>2012.000000</td>\n",
       "      <td>6.000000</td>\n",
       "    </tr>\n",
       "    <tr>\n",
       "      <td>75%</td>\n",
       "      <td>1.000000</td>\n",
       "      <td>2014.000000</td>\n",
       "      <td>9.000000</td>\n",
       "    </tr>\n",
       "    <tr>\n",
       "      <td>max</td>\n",
       "      <td>111.000000</td>\n",
       "      <td>2016.000000</td>\n",
       "      <td>12.000000</td>\n",
       "    </tr>\n",
       "  </tbody>\n",
       "</table>\n",
       "</div>"
      ],
      "text/plain": [
       "              value          year         month\n",
       "count  39999.000000  39999.000000  39999.000000\n",
       "mean       0.483187   2011.976799      6.457936\n",
       "std        1.714047      2.579253      3.437647\n",
       "min        0.000000   2008.000000      1.000000\n",
       "25%        0.000000   2010.000000      3.000000\n",
       "50%        0.000000   2012.000000      6.000000\n",
       "75%        1.000000   2014.000000      9.000000\n",
       "max      111.000000   2016.000000     12.000000"
      ]
     },
     "execution_count": 9,
     "metadata": {},
     "output_type": "execute_result"
    }
   ],
   "source": [
    "data.describe()"
   ]
  },
  {
   "cell_type": "code",
   "execution_count": 10,
   "metadata": {},
   "outputs": [
    {
     "data": {
      "text/plain": [
       "RangeIndex(start=0, stop=39999, step=1)"
      ]
     },
     "execution_count": 10,
     "metadata": {},
     "output_type": "execute_result"
    }
   ],
   "source": [
    "data.index"
   ]
  },
  {
   "cell_type": "code",
   "execution_count": 11,
   "metadata": {},
   "outputs": [
    {
     "data": {
      "text/plain": [
       "'Havering'"
      ]
     },
     "execution_count": 11,
     "metadata": {},
     "output_type": "execute_result"
    }
   ],
   "source": [
    "data.at[15, 'borough']"
   ]
  },
  {
   "cell_type": "code",
   "execution_count": 12,
   "metadata": {},
   "outputs": [
    {
     "data": {
      "text/plain": [
       "0              Croydon\n",
       "1            Greenwich\n",
       "2              Bromley\n",
       "3            Redbridge\n",
       "4           Wandsworth\n",
       "             ...      \n",
       "39994    Tower Hamlets\n",
       "39995          Hackney\n",
       "39996           Newham\n",
       "39997          Enfield\n",
       "39998           Merton\n",
       "Name: borough, Length: 39999, dtype: object"
      ]
     },
     "execution_count": 12,
     "metadata": {},
     "output_type": "execute_result"
    }
   ],
   "source": [
    "data['borough']"
   ]
  },
  {
   "cell_type": "code",
   "execution_count": 13,
   "metadata": {},
   "outputs": [
    {
     "data": {
      "image/png": "[encoded data removed]",
      "text/plain": [
       "<Figure size 720x720 with 9 Axes>"
      ]
     },
     "metadata": {
      "needs_background": "light"
     },
     "output_type": "display_data"
    }
   ],
   "source": [
    "from pandas.plotting import scatter_matrix\n",
    "scatter_matrix(data, alpha = .01, figsize = (10, 10))\n",
    "pass"
   ]
  },
  {
   "cell_type": "code",
   "execution_count": 14,
   "metadata": {},
   "outputs": [
    {
     "data": {
      "text/html": [
       "<div>\n",
       "<style scoped>\n",
       "    .dataframe tbody tr th:only-of-type {\n",
       "        vertical-align: middle;\n",
       "    }\n",
       "\n",
       "    .dataframe tbody tr th {\n",
       "        vertical-align: top;\n",
       "    }\n",
       "\n",
       "    .dataframe thead th {\n",
       "        text-align: right;\n",
       "    }\n",
       "</style>\n",
       "<table border=\"1\" class=\"dataframe\">\n",
       "  <thead>\n",
       "    <tr style=\"text-align: right;\">\n",
       "      <th></th>\n",
       "      <th>value</th>\n",
       "      <th>year</th>\n",
       "      <th>month</th>\n",
       "    </tr>\n",
       "  </thead>\n",
       "  <tbody>\n",
       "    <tr>\n",
       "      <td>value</td>\n",
       "      <td>1.000000</td>\n",
       "      <td>-0.000676</td>\n",
       "      <td>-0.000316</td>\n",
       "    </tr>\n",
       "    <tr>\n",
       "      <td>year</td>\n",
       "      <td>-0.000676</td>\n",
       "      <td>1.000000</td>\n",
       "      <td>-0.002693</td>\n",
       "    </tr>\n",
       "    <tr>\n",
       "      <td>month</td>\n",
       "      <td>-0.000316</td>\n",
       "      <td>-0.002693</td>\n",
       "      <td>1.000000</td>\n",
       "    </tr>\n",
       "  </tbody>\n",
       "</table>\n",
       "</div>"
      ],
      "text/plain": [
       "          value      year     month\n",
       "value  1.000000 -0.000676 -0.000316\n",
       "year  -0.000676  1.000000 -0.002693\n",
       "month -0.000316 -0.002693  1.000000"
      ]
     },
     "execution_count": 14,
     "metadata": {},
     "output_type": "execute_result"
    }
   ],
   "source": [
    "data.corr()"
   ]
  },
  {
   "cell_type": "markdown",
   "metadata": {},
   "source": [
    "Явной корреляции между данными числовыми характеристиками не наблюдается."
   ]
  },
  {
   "cell_type": "code",
   "execution_count": 15,
   "metadata": {},
   "outputs": [
    {
     "data": {
      "image/png": "[encoded data removed]",
      "text/plain": [
       "<Figure size 432x288 with 1 Axes>"
      ]
     },
     "metadata": {
      "needs_background": "light"
     },
     "output_type": "display_data"
    }
   ],
   "source": [
    "plt.plot(data['value'], data['year'], 'o', alpha = 0.05)\n",
    "plt.xlabel('value')\n",
    "plt.ylabel('year')\n",
    "plt.title('value VS year')\n",
    "pass"
   ]
  },
  {
   "cell_type": "code",
   "execution_count": 16,
   "metadata": {},
   "outputs": [
    {
     "data": {
      "image/png": "[encoded data removed]",
      "text/plain": [
       "<Figure size 432x288 with 1 Axes>"
      ]
     },
     "metadata": {
      "needs_background": "light"
     },
     "output_type": "display_data"
    }
   ],
   "source": [
    "plt.plot(data['value'], data['month'], 'o', alpha = 0.05)\n",
    "plt.xlabel('value')\n",
    "plt.ylabel('month')\n",
    "plt.title('value VS month')\n",
    "pass"
   ]
  },
  {
   "cell_type": "markdown",
   "metadata": {},
   "source": [
    "Категориальные и числовые признаки в задаче."
   ]
  },
  {
   "cell_type": "code",
   "execution_count": 17,
   "metadata": {},
   "outputs": [],
   "source": [
    "#temp = data['value']\n",
    "#for ind in data.index:\n",
    "#    temp.at[ind] = int(data.at[ind, 'lsoa_code'][2:])\n",
    "#data['lsoa_code'] = temp"
   ]
  },
  {
   "cell_type": "code",
   "execution_count": 18,
   "metadata": {},
   "outputs": [
    {
     "name": "stdout",
     "output_type": "stream",
     "text": [
      "Категориальные признаки:  ['lsoa_code', 'borough', 'major_category', 'minor_category']\n",
      "Числовые признаки:  ['value', 'year', 'month']\n"
     ]
    }
   ],
   "source": [
    "categorical_columns = [c for c in data.columns if data[c].dtype.name == 'object']\n",
    "numerical_columns   = [c for c in data.columns if data[c].dtype.name != 'object']\n",
    "print(\"Категориальные признаки: \", categorical_columns)\n",
    "print(\"Числовые признаки: \", numerical_columns)"
   ]
  },
  {
   "cell_type": "code",
   "execution_count": 19,
   "metadata": {},
   "outputs": [
    {
     "name": "stdout",
     "output_type": "stream",
     "text": [
      "lsoa_code ['E01001116' 'E01001646' 'E01000677' ... 'E01002996' 'E01002108'\n",
      " 'E01001562']\n",
      "borough ['Croydon' 'Greenwich' 'Bromley' 'Redbridge' 'Wandsworth' 'Ealing'\n",
      " 'Hounslow' 'Newham' 'Sutton' 'Haringey' 'Lambeth' 'Richmond upon Thames'\n",
      " 'Hillingdon' 'Havering' 'Barking and Dagenham' 'Kingston upon Thames'\n",
      " 'Westminster' 'Hackney' 'Enfield' 'Harrow' 'Lewisham' 'Brent' 'Southwark'\n",
      " 'Barnet' 'Waltham Forest' 'Camden' 'Bexley' 'Kensington and Chelsea'\n",
      " 'Islington' 'Tower Hamlets' 'Hammersmith and Fulham' 'Merton'\n",
      " 'City of London']\n",
      "major_category ['Burglary' 'Violence Against the Person' 'Robbery' 'Theft and Handling'\n",
      " 'Criminal Damage' 'Drugs' 'Fraud or Forgery' 'Other Notifiable Offences'\n",
      " 'Sexual Offences']\n",
      "minor_category ['Burglary in Other Buildings' 'Other violence' 'Personal Property'\n",
      " 'Other Theft' 'Offensive Weapon' 'Criminal Damage To Other Building'\n",
      " 'Theft/Taking of Pedal Cycle' 'Motor Vehicle Interference & Tampering'\n",
      " 'Theft/Taking Of Motor Vehicle' 'Wounding/GBH' 'Other Theft Person'\n",
      " 'Common Assault' 'Theft From Shops' 'Possession Of Drugs' 'Harassment'\n",
      " 'Handling Stolen Goods' 'Criminal Damage To Dwelling'\n",
      " 'Burglary in a Dwelling' 'Criminal Damage To Motor Vehicle'\n",
      " 'Other Criminal Damage' 'Counted per Victim' 'Going Equipped'\n",
      " 'Other Fraud & Forgery' 'Assault with Injury' 'Drug Trafficking'\n",
      " 'Other Drugs' 'Business Property' 'Other Notifiable' 'Other Sexual'\n",
      " 'Theft From Motor Vehicle' 'Rape' 'Murder']\n"
     ]
    }
   ],
   "source": [
    "for c in categorical_columns:\n",
    "    print(c, data[c].unique())"
   ]
  },
  {
   "cell_type": "code",
   "execution_count": 20,
   "metadata": {},
   "outputs": [
    {
     "name": "stdout",
     "output_type": "stream",
     "text": [
      "Index(['major_category_Burglary', 'major_category_Criminal Damage',\n",
      "       'major_category_Drugs', 'major_category_Fraud or Forgery',\n",
      "       'major_category_Other Notifiable Offences', 'major_category_Robbery',\n",
      "       'major_category_Sexual Offences', 'major_category_Theft and Handling',\n",
      "       'major_category_Violence Against the Person',\n",
      "       'minor_category_Assault with Injury',\n",
      "       'minor_category_Burglary in Other Buildings',\n",
      "       'minor_category_Burglary in a Dwelling',\n",
      "       'minor_category_Business Property', 'minor_category_Common Assault',\n",
      "       'minor_category_Counted per Victim',\n",
      "       'minor_category_Criminal Damage To Dwelling',\n",
      "       'minor_category_Criminal Damage To Motor Vehicle',\n",
      "       'minor_category_Criminal Damage To Other Building',\n",
      "       'minor_category_Drug Trafficking', 'minor_category_Going Equipped',\n",
      "       'minor_category_Handling Stolen Goods', 'minor_category_Harassment',\n",
      "       'minor_category_Motor Vehicle Interference & Tampering',\n",
      "       'minor_category_Murder', 'minor_category_Offensive Weapon',\n",
      "       'minor_category_Other Criminal Damage', 'minor_category_Other Drugs',\n",
      "       'minor_category_Other Fraud & Forgery',\n",
      "       'minor_category_Other Notifiable', 'minor_category_Other Sexual',\n",
      "       'minor_category_Other Theft', 'minor_category_Other Theft Person',\n",
      "       'minor_category_Other violence', 'minor_category_Personal Property',\n",
      "       'minor_category_Possession Of Drugs', 'minor_category_Rape',\n",
      "       'minor_category_Theft From Motor Vehicle',\n",
      "       'minor_category_Theft From Shops',\n",
      "       'minor_category_Theft/Taking Of Motor Vehicle',\n",
      "       'minor_category_Theft/Taking of Pedal Cycle',\n",
      "       'minor_category_Wounding/GBH'],\n",
      "      dtype='object')\n",
      "Index(['borough_Barking and Dagenham', 'borough_Barnet', 'borough_Bexley',\n",
      "       'borough_Brent', 'borough_Bromley', 'borough_Camden',\n",
      "       'borough_City of London', 'borough_Croydon', 'borough_Ealing',\n",
      "       'borough_Enfield', 'borough_Greenwich', 'borough_Hackney',\n",
      "       'borough_Hammersmith and Fulham', 'borough_Haringey', 'borough_Harrow',\n",
      "       'borough_Havering', 'borough_Hillingdon', 'borough_Hounslow',\n",
      "       'borough_Islington', 'borough_Kensington and Chelsea',\n",
      "       'borough_Kingston upon Thames', 'borough_Lambeth', 'borough_Lewisham',\n",
      "       'borough_Merton', 'borough_Newham', 'borough_Redbridge',\n",
      "       'borough_Richmond upon Thames', 'borough_Southwark', 'borough_Sutton',\n",
      "       'borough_Tower Hamlets', 'borough_Waltham Forest', 'borough_Wandsworth',\n",
      "       'borough_Westminster'],\n",
      "      dtype='object')\n"
     ]
    }
   ],
   "source": [
    "categorical_columns.remove('lsoa_code')\n",
    "\n",
    "result_columns = ['borough']\n",
    "categorical_columns.remove('borough')\n",
    "\n",
    "data_nonbinary = pd.get_dummies(data[categorical_columns])\n",
    "print(data_nonbinary.columns)\n",
    "\n",
    "data_result = pd.get_dummies(data[result_columns])\n",
    "result = data_result['borough_Westminster']\n",
    "print(data_result.columns)"
   ]
  },
  {
   "cell_type": "markdown",
   "metadata": {},
   "source": [
    "Осуществим нормализацию числовых признаков - приведем к нулевому среднему и единичному среднеквадратичному отклонению."
   ]
  },
  {
   "cell_type": "code",
   "execution_count": 21,
   "metadata": {},
   "outputs": [
    {
     "data": {
      "text/html": [
       "<div>\n",
       "<style scoped>\n",
       "    .dataframe tbody tr th:only-of-type {\n",
       "        vertical-align: middle;\n",
       "    }\n",
       "\n",
       "    .dataframe tbody tr th {\n",
       "        vertical-align: top;\n",
       "    }\n",
       "\n",
       "    .dataframe thead th {\n",
       "        text-align: right;\n",
       "    }\n",
       "</style>\n",
       "<table border=\"1\" class=\"dataframe\">\n",
       "  <thead>\n",
       "    <tr style=\"text-align: right;\">\n",
       "      <th></th>\n",
       "      <th>value</th>\n",
       "      <th>year</th>\n",
       "      <th>month</th>\n",
       "    </tr>\n",
       "  </thead>\n",
       "  <tbody>\n",
       "    <tr>\n",
       "      <td>count</td>\n",
       "      <td>39999.000000</td>\n",
       "      <td>39999.000000</td>\n",
       "      <td>39999.000000</td>\n",
       "    </tr>\n",
       "    <tr>\n",
       "      <td>mean</td>\n",
       "      <td>0.483187</td>\n",
       "      <td>2011.976799</td>\n",
       "      <td>6.457936</td>\n",
       "    </tr>\n",
       "    <tr>\n",
       "      <td>std</td>\n",
       "      <td>1.714047</td>\n",
       "      <td>2.579253</td>\n",
       "      <td>3.437647</td>\n",
       "    </tr>\n",
       "    <tr>\n",
       "      <td>min</td>\n",
       "      <td>0.000000</td>\n",
       "      <td>2008.000000</td>\n",
       "      <td>1.000000</td>\n",
       "    </tr>\n",
       "    <tr>\n",
       "      <td>25%</td>\n",
       "      <td>0.000000</td>\n",
       "      <td>2010.000000</td>\n",
       "      <td>3.000000</td>\n",
       "    </tr>\n",
       "    <tr>\n",
       "      <td>50%</td>\n",
       "      <td>0.000000</td>\n",
       "      <td>2012.000000</td>\n",
       "      <td>6.000000</td>\n",
       "    </tr>\n",
       "    <tr>\n",
       "      <td>75%</td>\n",
       "      <td>1.000000</td>\n",
       "      <td>2014.000000</td>\n",
       "      <td>9.000000</td>\n",
       "    </tr>\n",
       "    <tr>\n",
       "      <td>max</td>\n",
       "      <td>111.000000</td>\n",
       "      <td>2016.000000</td>\n",
       "      <td>12.000000</td>\n",
       "    </tr>\n",
       "  </tbody>\n",
       "</table>\n",
       "</div>"
      ],
      "text/plain": [
       "              value          year         month\n",
       "count  39999.000000  39999.000000  39999.000000\n",
       "mean       0.483187   2011.976799      6.457936\n",
       "std        1.714047      2.579253      3.437647\n",
       "min        0.000000   2008.000000      1.000000\n",
       "25%        0.000000   2010.000000      3.000000\n",
       "50%        0.000000   2012.000000      6.000000\n",
       "75%        1.000000   2014.000000      9.000000\n",
       "max      111.000000   2016.000000     12.000000"
      ]
     },
     "execution_count": 21,
     "metadata": {},
     "output_type": "execute_result"
    }
   ],
   "source": [
    "data_numerical = data[numerical_columns]\n",
    "data_numerical.describe()"
   ]
  },
  {
   "cell_type": "code",
   "execution_count": 22,
   "metadata": {},
   "outputs": [],
   "source": [
    "data_numerical = (data_numerical - data_numerical.mean(axis = 0))/data_numerical.std(axis = 0)"
   ]
  },
  {
   "cell_type": "code",
   "execution_count": 23,
   "metadata": {},
   "outputs": [
    {
     "data": {
      "text/html": [
       "<div>\n",
       "<style scoped>\n",
       "    .dataframe tbody tr th:only-of-type {\n",
       "        vertical-align: middle;\n",
       "    }\n",
       "\n",
       "    .dataframe tbody tr th {\n",
       "        vertical-align: top;\n",
       "    }\n",
       "\n",
       "    .dataframe thead th {\n",
       "        text-align: right;\n",
       "    }\n",
       "</style>\n",
       "<table border=\"1\" class=\"dataframe\">\n",
       "  <thead>\n",
       "    <tr style=\"text-align: right;\">\n",
       "      <th></th>\n",
       "      <th>value</th>\n",
       "      <th>year</th>\n",
       "      <th>month</th>\n",
       "    </tr>\n",
       "  </thead>\n",
       "  <tbody>\n",
       "    <tr>\n",
       "      <td>count</td>\n",
       "      <td>3.999900e+04</td>\n",
       "      <td>3.999900e+04</td>\n",
       "      <td>3.999900e+04</td>\n",
       "    </tr>\n",
       "    <tr>\n",
       "      <td>mean</td>\n",
       "      <td>1.023873e-16</td>\n",
       "      <td>-3.311525e-14</td>\n",
       "      <td>-3.061378e-16</td>\n",
       "    </tr>\n",
       "    <tr>\n",
       "      <td>std</td>\n",
       "      <td>1.000000e+00</td>\n",
       "      <td>1.000000e+00</td>\n",
       "      <td>1.000000e+00</td>\n",
       "    </tr>\n",
       "    <tr>\n",
       "      <td>min</td>\n",
       "      <td>-2.818983e-01</td>\n",
       "      <td>-1.541842e+00</td>\n",
       "      <td>-1.587696e+00</td>\n",
       "    </tr>\n",
       "    <tr>\n",
       "      <td>25%</td>\n",
       "      <td>-2.818983e-01</td>\n",
       "      <td>-7.664233e-01</td>\n",
       "      <td>-1.005902e+00</td>\n",
       "    </tr>\n",
       "    <tr>\n",
       "      <td>50%</td>\n",
       "      <td>-2.818983e-01</td>\n",
       "      <td>8.995078e-03</td>\n",
       "      <td>-1.332122e-01</td>\n",
       "    </tr>\n",
       "    <tr>\n",
       "      <td>75%</td>\n",
       "      <td>3.015161e-01</td>\n",
       "      <td>7.844135e-01</td>\n",
       "      <td>7.394778e-01</td>\n",
       "    </tr>\n",
       "    <tr>\n",
       "      <td>max</td>\n",
       "      <td>6.447711e+01</td>\n",
       "      <td>1.559832e+00</td>\n",
       "      <td>1.612168e+00</td>\n",
       "    </tr>\n",
       "  </tbody>\n",
       "</table>\n",
       "</div>"
      ],
      "text/plain": [
       "              value          year         month\n",
       "count  3.999900e+04  3.999900e+04  3.999900e+04\n",
       "mean   1.023873e-16 -3.311525e-14 -3.061378e-16\n",
       "std    1.000000e+00  1.000000e+00  1.000000e+00\n",
       "min   -2.818983e-01 -1.541842e+00 -1.587696e+00\n",
       "25%   -2.818983e-01 -7.664233e-01 -1.005902e+00\n",
       "50%   -2.818983e-01  8.995078e-03 -1.332122e-01\n",
       "75%    3.015161e-01  7.844135e-01  7.394778e-01\n",
       "max    6.447711e+01  1.559832e+00  1.612168e+00"
      ]
     },
     "execution_count": 23,
     "metadata": {},
     "output_type": "execute_result"
    }
   ],
   "source": [
    "data_numerical.describe()"
   ]
  },
  {
   "cell_type": "code",
   "execution_count": 24,
   "metadata": {},
   "outputs": [],
   "source": [
    "data = pd.concat((data_numerical, data_nonbinary), axis = 1)"
   ]
  },
  {
   "cell_type": "code",
   "execution_count": 25,
   "metadata": {},
   "outputs": [
    {
     "data": {
      "text/html": [
       "<div>\n",
       "<style scoped>\n",
       "    .dataframe tbody tr th:only-of-type {\n",
       "        vertical-align: middle;\n",
       "    }\n",
       "\n",
       "    .dataframe tbody tr th {\n",
       "        vertical-align: top;\n",
       "    }\n",
       "\n",
       "    .dataframe thead th {\n",
       "        text-align: right;\n",
       "    }\n",
       "</style>\n",
       "<table border=\"1\" class=\"dataframe\">\n",
       "  <thead>\n",
       "    <tr style=\"text-align: right;\">\n",
       "      <th></th>\n",
       "      <th>value</th>\n",
       "      <th>year</th>\n",
       "      <th>month</th>\n",
       "      <th>major_category_Burglary</th>\n",
       "      <th>major_category_Criminal Damage</th>\n",
       "      <th>major_category_Drugs</th>\n",
       "      <th>major_category_Fraud or Forgery</th>\n",
       "      <th>major_category_Other Notifiable Offences</th>\n",
       "      <th>major_category_Robbery</th>\n",
       "      <th>major_category_Sexual Offences</th>\n",
       "      <th>...</th>\n",
       "      <th>minor_category_Other Theft Person</th>\n",
       "      <th>minor_category_Other violence</th>\n",
       "      <th>minor_category_Personal Property</th>\n",
       "      <th>minor_category_Possession Of Drugs</th>\n",
       "      <th>minor_category_Rape</th>\n",
       "      <th>minor_category_Theft From Motor Vehicle</th>\n",
       "      <th>minor_category_Theft From Shops</th>\n",
       "      <th>minor_category_Theft/Taking Of Motor Vehicle</th>\n",
       "      <th>minor_category_Theft/Taking of Pedal Cycle</th>\n",
       "      <th>minor_category_Wounding/GBH</th>\n",
       "    </tr>\n",
       "  </thead>\n",
       "  <tbody>\n",
       "    <tr>\n",
       "      <td>count</td>\n",
       "      <td>3.999900e+04</td>\n",
       "      <td>3.999900e+04</td>\n",
       "      <td>3.999900e+04</td>\n",
       "      <td>39999.000000</td>\n",
       "      <td>39999.000000</td>\n",
       "      <td>39999.000000</td>\n",
       "      <td>39999.000000</td>\n",
       "      <td>39999.000000</td>\n",
       "      <td>39999.000000</td>\n",
       "      <td>39999.000000</td>\n",
       "      <td>...</td>\n",
       "      <td>39999.000000</td>\n",
       "      <td>39999.000000</td>\n",
       "      <td>39999.000000</td>\n",
       "      <td>39999.000000</td>\n",
       "      <td>39999.000000</td>\n",
       "      <td>39999.000000</td>\n",
       "      <td>39999.000000</td>\n",
       "      <td>39999.000000</td>\n",
       "      <td>39999.000000</td>\n",
       "      <td>39999.000000</td>\n",
       "    </tr>\n",
       "    <tr>\n",
       "      <td>mean</td>\n",
       "      <td>1.023873e-16</td>\n",
       "      <td>-3.311525e-14</td>\n",
       "      <td>-3.061378e-16</td>\n",
       "      <td>0.077577</td>\n",
       "      <td>0.150154</td>\n",
       "      <td>0.089052</td>\n",
       "      <td>0.016850</td>\n",
       "      <td>0.057026</td>\n",
       "      <td>0.069027</td>\n",
       "      <td>0.007625</td>\n",
       "      <td>...</td>\n",
       "      <td>0.039226</td>\n",
       "      <td>0.037626</td>\n",
       "      <td>0.038526</td>\n",
       "      <td>0.040176</td>\n",
       "      <td>0.001975</td>\n",
       "      <td>0.037076</td>\n",
       "      <td>0.033001</td>\n",
       "      <td>0.038151</td>\n",
       "      <td>0.039551</td>\n",
       "      <td>0.039876</td>\n",
       "    </tr>\n",
       "    <tr>\n",
       "      <td>std</td>\n",
       "      <td>1.000000e+00</td>\n",
       "      <td>1.000000e+00</td>\n",
       "      <td>1.000000e+00</td>\n",
       "      <td>0.267508</td>\n",
       "      <td>0.357227</td>\n",
       "      <td>0.284823</td>\n",
       "      <td>0.128712</td>\n",
       "      <td>0.231896</td>\n",
       "      <td>0.253503</td>\n",
       "      <td>0.086990</td>\n",
       "      <td>...</td>\n",
       "      <td>0.194135</td>\n",
       "      <td>0.190292</td>\n",
       "      <td>0.192465</td>\n",
       "      <td>0.196374</td>\n",
       "      <td>0.044398</td>\n",
       "      <td>0.188950</td>\n",
       "      <td>0.178641</td>\n",
       "      <td>0.191563</td>\n",
       "      <td>0.194904</td>\n",
       "      <td>0.195670</td>\n",
       "    </tr>\n",
       "    <tr>\n",
       "      <td>min</td>\n",
       "      <td>-2.818983e-01</td>\n",
       "      <td>-1.541842e+00</td>\n",
       "      <td>-1.587696e+00</td>\n",
       "      <td>0.000000</td>\n",
       "      <td>0.000000</td>\n",
       "      <td>0.000000</td>\n",
       "      <td>0.000000</td>\n",
       "      <td>0.000000</td>\n",
       "      <td>0.000000</td>\n",
       "      <td>0.000000</td>\n",
       "      <td>...</td>\n",
       "      <td>0.000000</td>\n",
       "      <td>0.000000</td>\n",
       "      <td>0.000000</td>\n",
       "      <td>0.000000</td>\n",
       "      <td>0.000000</td>\n",
       "      <td>0.000000</td>\n",
       "      <td>0.000000</td>\n",
       "      <td>0.000000</td>\n",
       "      <td>0.000000</td>\n",
       "      <td>0.000000</td>\n",
       "    </tr>\n",
       "    <tr>\n",
       "      <td>25%</td>\n",
       "      <td>-2.818983e-01</td>\n",
       "      <td>-7.664233e-01</td>\n",
       "      <td>-1.005902e+00</td>\n",
       "      <td>0.000000</td>\n",
       "      <td>0.000000</td>\n",
       "      <td>0.000000</td>\n",
       "      <td>0.000000</td>\n",
       "      <td>0.000000</td>\n",
       "      <td>0.000000</td>\n",
       "      <td>0.000000</td>\n",
       "      <td>...</td>\n",
       "      <td>0.000000</td>\n",
       "      <td>0.000000</td>\n",
       "      <td>0.000000</td>\n",
       "      <td>0.000000</td>\n",
       "      <td>0.000000</td>\n",
       "      <td>0.000000</td>\n",
       "      <td>0.000000</td>\n",
       "      <td>0.000000</td>\n",
       "      <td>0.000000</td>\n",
       "      <td>0.000000</td>\n",
       "    </tr>\n",
       "    <tr>\n",
       "      <td>50%</td>\n",
       "      <td>-2.818983e-01</td>\n",
       "      <td>8.995078e-03</td>\n",
       "      <td>-1.332122e-01</td>\n",
       "      <td>0.000000</td>\n",
       "      <td>0.000000</td>\n",
       "      <td>0.000000</td>\n",
       "      <td>0.000000</td>\n",
       "      <td>0.000000</td>\n",
       "      <td>0.000000</td>\n",
       "      <td>0.000000</td>\n",
       "      <td>...</td>\n",
       "      <td>0.000000</td>\n",
       "      <td>0.000000</td>\n",
       "      <td>0.000000</td>\n",
       "      <td>0.000000</td>\n",
       "      <td>0.000000</td>\n",
       "      <td>0.000000</td>\n",
       "      <td>0.000000</td>\n",
       "      <td>0.000000</td>\n",
       "      <td>0.000000</td>\n",
       "      <td>0.000000</td>\n",
       "    </tr>\n",
       "    <tr>\n",
       "      <td>75%</td>\n",
       "      <td>3.015161e-01</td>\n",
       "      <td>7.844135e-01</td>\n",
       "      <td>7.394778e-01</td>\n",
       "      <td>0.000000</td>\n",
       "      <td>0.000000</td>\n",
       "      <td>0.000000</td>\n",
       "      <td>0.000000</td>\n",
       "      <td>0.000000</td>\n",
       "      <td>0.000000</td>\n",
       "      <td>0.000000</td>\n",
       "      <td>...</td>\n",
       "      <td>0.000000</td>\n",
       "      <td>0.000000</td>\n",
       "      <td>0.000000</td>\n",
       "      <td>0.000000</td>\n",
       "      <td>0.000000</td>\n",
       "      <td>0.000000</td>\n",
       "      <td>0.000000</td>\n",
       "      <td>0.000000</td>\n",
       "      <td>0.000000</td>\n",
       "      <td>0.000000</td>\n",
       "    </tr>\n",
       "    <tr>\n",
       "      <td>max</td>\n",
       "      <td>6.447711e+01</td>\n",
       "      <td>1.559832e+00</td>\n",
       "      <td>1.612168e+00</td>\n",
       "      <td>1.000000</td>\n",
       "      <td>1.000000</td>\n",
       "      <td>1.000000</td>\n",
       "      <td>1.000000</td>\n",
       "      <td>1.000000</td>\n",
       "      <td>1.000000</td>\n",
       "      <td>1.000000</td>\n",
       "      <td>...</td>\n",
       "      <td>1.000000</td>\n",
       "      <td>1.000000</td>\n",
       "      <td>1.000000</td>\n",
       "      <td>1.000000</td>\n",
       "      <td>1.000000</td>\n",
       "      <td>1.000000</td>\n",
       "      <td>1.000000</td>\n",
       "      <td>1.000000</td>\n",
       "      <td>1.000000</td>\n",
       "      <td>1.000000</td>\n",
       "    </tr>\n",
       "  </tbody>\n",
       "</table>\n",
       "<p>8 rows × 44 columns</p>\n",
       "</div>"
      ],
      "text/plain": [
       "              value          year         month  major_category_Burglary  \\\n",
       "count  3.999900e+04  3.999900e+04  3.999900e+04             39999.000000   \n",
       "mean   1.023873e-16 -3.311525e-14 -3.061378e-16                 0.077577   \n",
       "std    1.000000e+00  1.000000e+00  1.000000e+00                 0.267508   \n",
       "min   -2.818983e-01 -1.541842e+00 -1.587696e+00                 0.000000   \n",
       "25%   -2.818983e-01 -7.664233e-01 -1.005902e+00                 0.000000   \n",
       "50%   -2.818983e-01  8.995078e-03 -1.332122e-01                 0.000000   \n",
       "75%    3.015161e-01  7.844135e-01  7.394778e-01                 0.000000   \n",
       "max    6.447711e+01  1.559832e+00  1.612168e+00                 1.000000   \n",
       "\n",
       "       major_category_Criminal Damage  major_category_Drugs  \\\n",
       "count                    39999.000000          39999.000000   \n",
       "mean                         0.150154              0.089052   \n",
       "std                          0.357227              0.284823   \n",
       "min                          0.000000              0.000000   \n",
       "25%                          0.000000              0.000000   \n",
       "50%                          0.000000              0.000000   \n",
       "75%                          0.000000              0.000000   \n",
       "max                          1.000000              1.000000   \n",
       "\n",
       "       major_category_Fraud or Forgery  \\\n",
       "count                     39999.000000   \n",
       "mean                          0.016850   \n",
       "std                           0.128712   \n",
       "min                           0.000000   \n",
       "25%                           0.000000   \n",
       "50%                           0.000000   \n",
       "75%                           0.000000   \n",
       "max                           1.000000   \n",
       "\n",
       "       major_category_Other Notifiable Offences  major_category_Robbery  \\\n",
       "count                              39999.000000            39999.000000   \n",
       "mean                                   0.057026                0.069027   \n",
       "std                                    0.231896                0.253503   \n",
       "min                                    0.000000                0.000000   \n",
       "25%                                    0.000000                0.000000   \n",
       "50%                                    0.000000                0.000000   \n",
       "75%                                    0.000000                0.000000   \n",
       "max                                    1.000000                1.000000   \n",
       "\n",
       "       major_category_Sexual Offences  ...  minor_category_Other Theft Person  \\\n",
       "count                    39999.000000  ...                       39999.000000   \n",
       "mean                         0.007625  ...                           0.039226   \n",
       "std                          0.086990  ...                           0.194135   \n",
       "min                          0.000000  ...                           0.000000   \n",
       "25%                          0.000000  ...                           0.000000   \n",
       "50%                          0.000000  ...                           0.000000   \n",
       "75%                          0.000000  ...                           0.000000   \n",
       "max                          1.000000  ...                           1.000000   \n",
       "\n",
       "       minor_category_Other violence  minor_category_Personal Property  \\\n",
       "count                   39999.000000                      39999.000000   \n",
       "mean                        0.037626                          0.038526   \n",
       "std                         0.190292                          0.192465   \n",
       "min                         0.000000                          0.000000   \n",
       "25%                         0.000000                          0.000000   \n",
       "50%                         0.000000                          0.000000   \n",
       "75%                         0.000000                          0.000000   \n",
       "max                         1.000000                          1.000000   \n",
       "\n",
       "       minor_category_Possession Of Drugs  minor_category_Rape  \\\n",
       "count                        39999.000000         39999.000000   \n",
       "mean                             0.040176             0.001975   \n",
       "std                              0.196374             0.044398   \n",
       "min                              0.000000             0.000000   \n",
       "25%                              0.000000             0.000000   \n",
       "50%                              0.000000             0.000000   \n",
       "75%                              0.000000             0.000000   \n",
       "max                              1.000000             1.000000   \n",
       "\n",
       "       minor_category_Theft From Motor Vehicle  \\\n",
       "count                             39999.000000   \n",
       "mean                                  0.037076   \n",
       "std                                   0.188950   \n",
       "min                                   0.000000   \n",
       "25%                                   0.000000   \n",
       "50%                                   0.000000   \n",
       "75%                                   0.000000   \n",
       "max                                   1.000000   \n",
       "\n",
       "       minor_category_Theft From Shops  \\\n",
       "count                     39999.000000   \n",
       "mean                          0.033001   \n",
       "std                           0.178641   \n",
       "min                           0.000000   \n",
       "25%                           0.000000   \n",
       "50%                           0.000000   \n",
       "75%                           0.000000   \n",
       "max                           1.000000   \n",
       "\n",
       "       minor_category_Theft/Taking Of Motor Vehicle  \\\n",
       "count                                  39999.000000   \n",
       "mean                                       0.038151   \n",
       "std                                        0.191563   \n",
       "min                                        0.000000   \n",
       "25%                                        0.000000   \n",
       "50%                                        0.000000   \n",
       "75%                                        0.000000   \n",
       "max                                        1.000000   \n",
       "\n",
       "       minor_category_Theft/Taking of Pedal Cycle  minor_category_Wounding/GBH  \n",
       "count                                39999.000000                 39999.000000  \n",
       "mean                                     0.039551                     0.039876  \n",
       "std                                      0.194904                     0.195670  \n",
       "min                                      0.000000                     0.000000  \n",
       "25%                                      0.000000                     0.000000  \n",
       "50%                                      0.000000                     0.000000  \n",
       "75%                                      0.000000                     0.000000  \n",
       "max                                      1.000000                     1.000000  \n",
       "\n",
       "[8 rows x 44 columns]"
      ]
     },
     "execution_count": 25,
     "metadata": {},
     "output_type": "execute_result"
    }
   ],
   "source": [
    "data.describe()"
   ]
  },
  {
   "cell_type": "code",
   "execution_count": 26,
   "metadata": {},
   "outputs": [],
   "source": [
    "X = data"
   ]
  },
  {
   "cell_type": "code",
   "execution_count": 27,
   "metadata": {},
   "outputs": [],
   "source": [
    "y = result"
   ]
  },
  {
   "cell_type": "code",
   "execution_count": 28,
   "metadata": {},
   "outputs": [],
   "source": [
    "feature_names = X.columns"
   ]
  },
  {
   "cell_type": "code",
   "execution_count": 29,
   "metadata": {},
   "outputs": [
    {
     "name": "stdout",
     "output_type": "stream",
     "text": [
      "Характеристики:  Index(['value', 'year', 'month', 'major_category_Burglary',\n",
      "       'major_category_Criminal Damage', 'major_category_Drugs',\n",
      "       'major_category_Fraud or Forgery',\n",
      "       'major_category_Other Notifiable Offences', 'major_category_Robbery',\n",
      "       'major_category_Sexual Offences', 'major_category_Theft and Handling',\n",
      "       'major_category_Violence Against the Person',\n",
      "       'minor_category_Assault with Injury',\n",
      "       'minor_category_Burglary in Other Buildings',\n",
      "       'minor_category_Burglary in a Dwelling',\n",
      "       'minor_category_Business Property', 'minor_category_Common Assault',\n",
      "       'minor_category_Counted per Victim',\n",
      "       'minor_category_Criminal Damage To Dwelling',\n",
      "       'minor_category_Criminal Damage To Motor Vehicle',\n",
      "       'minor_category_Criminal Damage To Other Building',\n",
      "       'minor_category_Drug Trafficking', 'minor_category_Going Equipped',\n",
      "       'minor_category_Handling Stolen Goods', 'minor_category_Harassment',\n",
      "       'minor_category_Motor Vehicle Interference & Tampering',\n",
      "       'minor_category_Murder', 'minor_category_Offensive Weapon',\n",
      "       'minor_category_Other Criminal Damage', 'minor_category_Other Drugs',\n",
      "       'minor_category_Other Fraud & Forgery',\n",
      "       'minor_category_Other Notifiable', 'minor_category_Other Sexual',\n",
      "       'minor_category_Other Theft', 'minor_category_Other Theft Person',\n",
      "       'minor_category_Other violence', 'minor_category_Personal Property',\n",
      "       'minor_category_Possession Of Drugs', 'minor_category_Rape',\n",
      "       'minor_category_Theft From Motor Vehicle',\n",
      "       'minor_category_Theft From Shops',\n",
      "       'minor_category_Theft/Taking Of Motor Vehicle',\n",
      "       'minor_category_Theft/Taking of Pedal Cycle',\n",
      "       'minor_category_Wounding/GBH'],\n",
      "      dtype='object')\n"
     ]
    }
   ],
   "source": [
    "print('Характеристики: ', feature_names)"
   ]
  },
  {
   "cell_type": "code",
   "execution_count": 30,
   "metadata": {},
   "outputs": [],
   "source": [
    "X=X.to_numpy()\n",
    "y=y.to_numpy()"
   ]
  },
  {
   "cell_type": "code",
   "execution_count": 31,
   "metadata": {},
   "outputs": [
    {
     "name": "stdout",
     "output_type": "stream",
     "text": [
      "Размерность массива признаков:  (39999, 44)\n",
      "Размерность вектора значений:  (39999,)\n"
     ]
    }
   ],
   "source": [
    "print('Размерность массива признаков: ', X.shape)\n",
    "print('Размерность вектора значений: ', y.shape)\n",
    "N, d = X.shape"
   ]
  },
  {
   "cell_type": "code",
   "execution_count": 32,
   "metadata": {},
   "outputs": [
    {
     "name": "stdout",
     "output_type": "stream",
     "text": [
      "27999 12000\n"
     ]
    }
   ],
   "source": [
    "from sklearn.model_selection import train_test_split\n",
    "X_train, X_test, y_train, y_test = train_test_split(X, y, test_size = 0.3, random_state = 42)\n",
    "\n",
    "N_train, _ = X_train.shape \n",
    "N_test,  _ = X_test.shape \n",
    "\n",
    "print(N_train, N_test)"
   ]
  },
  {
   "cell_type": "markdown",
   "metadata": {},
   "source": [
    "kNN - метод k ближайших соседей"
   ]
  },
  {
   "cell_type": "code",
   "execution_count": 33,
   "metadata": {},
   "outputs": [
    {
     "data": {
      "text/plain": [
       "KNeighborsClassifier(algorithm='auto', leaf_size=30, metric='minkowski',\n",
       "                     metric_params=None, n_jobs=None, n_neighbors=8, p=2,\n",
       "                     weights='uniform')"
      ]
     },
     "execution_count": 33,
     "metadata": {},
     "output_type": "execute_result"
    }
   ],
   "source": [
    "from sklearn.neighbors import KNeighborsClassifier\n",
    "knn = KNeighborsClassifier(n_neighbors = 8) # 8 ближайших соседей\n",
    "knn.fit(X_train, y_train)"
   ]
  },
  {
   "cell_type": "code",
   "execution_count": 34,
   "metadata": {},
   "outputs": [
    {
     "name": "stdout",
     "output_type": "stream",
     "text": [
      "Ошибка на обучающей выборке:  0.029501053609057467\n",
      "Ошибка на тестовой выборке: 0.026166666666666668\n"
     ]
    }
   ],
   "source": [
    "y_train_predict = knn.predict(X_train)\n",
    "y_test_predict = knn.predict(X_test)\n",
    "\n",
    "err_train = np.mean(y_train != y_train_predict)\n",
    "err_test  = np.mean(y_test  != y_test_predict)\n",
    "\n",
    "print(\"Ошибка на обучающей выборке: \", err_train)\n",
    "print('Ошибка на тестовой выборке:', err_test)"
   ]
  },
  {
   "cell_type": "code",
   "execution_count": 35,
   "metadata": {},
   "outputs": [
    {
     "name": "stdout",
     "output_type": "stream",
     "text": [
      "[[11686     1]\n",
      " [  313     0]]\n"
     ]
    }
   ],
   "source": [
    "from sklearn.metrics import confusion_matrix\n",
    "print(confusion_matrix(y_test, y_test_predict))"
   ]
  },
  {
   "cell_type": "code",
   "execution_count": 36,
   "metadata": {},
   "outputs": [
    {
     "name": "stdout",
     "output_type": "stream",
     "text": [
      "Наименьшая ошибка:  0.029501053609057415 , достигнуто при k =  7\n"
     ]
    }
   ],
   "source": [
    "from sklearn.model_selection import GridSearchCV\n",
    "nnb = [1, 3, 5, 7, 10, 15, 20, 25, 35, 45, 55]\n",
    "knn = KNeighborsClassifier()\n",
    "grid = GridSearchCV(knn, param_grid = {'n_neighbors': nnb}, cv=10)\n",
    "grid.fit(X_train, y_train)\n",
    "\n",
    "best_cv_err = 1 - grid.best_score_\n",
    "best_n_neighbors = grid.best_estimator_.n_neighbors\n",
    "print(\"Наименьшая ошибка: \", best_cv_err, \", достигнуто при k = \", best_n_neighbors)"
   ]
  },
  {
   "cell_type": "code",
   "execution_count": 37,
   "metadata": {},
   "outputs": [
    {
     "data": {
      "text/plain": [
       "KNeighborsClassifier(algorithm='auto', leaf_size=30, metric='minkowski',\n",
       "                     metric_params=None, n_jobs=None, n_neighbors=7, p=2,\n",
       "                     weights='uniform')"
      ]
     },
     "execution_count": 37,
     "metadata": {},
     "output_type": "execute_result"
    }
   ],
   "source": [
    "knn = KNeighborsClassifier(n_neighbors = 7) # 7 ближайший сосед\n",
    "knn.fit(X_train, y_train)"
   ]
  },
  {
   "cell_type": "code",
   "execution_count": 38,
   "metadata": {},
   "outputs": [
    {
     "name": "stdout",
     "output_type": "stream",
     "text": [
      "Ошибка на обучающей выборке:  0.029501053609057467\n",
      "Ошибка на тестовой выборке: 0.026166666666666668\n"
     ]
    }
   ],
   "source": [
    "y_train_predict = knn.predict(X_train)\n",
    "y_test_predict = knn.predict(X_test)\n",
    "\n",
    "err_train = np.mean(y_train != y_train_predict)\n",
    "err_test  = np.mean(y_test  != y_test_predict)\n",
    "\n",
    "print(\"Ошибка на обучающей выборке: \", err_train)\n",
    "print('Ошибка на тестовой выборке:', err_test)"
   ]
  },
  {
   "cell_type": "code",
   "execution_count": 39,
   "metadata": {},
   "outputs": [
    {
     "name": "stdout",
     "output_type": "stream",
     "text": [
      "[[11686     1]\n",
      " [  313     0]]\n"
     ]
    }
   ],
   "source": [
    "print(confusion_matrix(y_test, y_test_predict))"
   ]
  },
  {
   "cell_type": "code",
   "execution_count": 40,
   "metadata": {},
   "outputs": [
    {
     "name": "stdout",
     "output_type": "stream",
     "text": [
      "Наименьшая ошибка:  0.029501053609057415 , достигнуто при k =  6\n"
     ]
    }
   ],
   "source": [
    "nnb = [6, 7, 8, 9]\n",
    "knn = KNeighborsClassifier()\n",
    "grid = GridSearchCV(knn, param_grid = {'n_neighbors': nnb}, cv=10)\n",
    "grid.fit(X_train, y_train)\n",
    "\n",
    "best_cv_err = 1 - grid.best_score_\n",
    "best_n_neighbors = grid.best_estimator_.n_neighbors\n",
    "print(\"Наименьшая ошибка: \", best_cv_err, \", достигнуто при k = \", best_n_neighbors)"
   ]
  },
  {
   "cell_type": "code",
   "execution_count": 41,
   "metadata": {},
   "outputs": [
    {
     "data": {
      "text/plain": [
       "KNeighborsClassifier(algorithm='auto', leaf_size=30, metric='minkowski',\n",
       "                     metric_params=None, n_jobs=None, n_neighbors=6, p=2,\n",
       "                     weights='uniform')"
      ]
     },
     "execution_count": 41,
     "metadata": {},
     "output_type": "execute_result"
    }
   ],
   "source": [
    "knn = KNeighborsClassifier(n_neighbors = 6) # 6 ближайший сосед\n",
    "knn.fit(X_train, y_train)"
   ]
  },
  {
   "cell_type": "code",
   "execution_count": 42,
   "metadata": {},
   "outputs": [
    {
     "name": "stdout",
     "output_type": "stream",
     "text": [
      "Ошибка на обучающей выборке:  0.029501053609057467\n",
      "Ошибка на тестовой выборке: 0.026166666666666668\n"
     ]
    }
   ],
   "source": [
    "y_train_predict = knn.predict(X_train)\n",
    "y_test_predict = knn.predict(X_test)\n",
    "\n",
    "err_train = np.mean(y_train != y_train_predict)\n",
    "err_test  = np.mean(y_test  != y_test_predict)\n",
    "\n",
    "print(\"Ошибка на обучающей выборке: \", err_train)\n",
    "print('Ошибка на тестовой выборке:', err_test)"
   ]
  },
  {
   "cell_type": "markdown",
   "metadata": {},
   "source": [
    "Метод главных компонент"
   ]
  },
  {
   "cell_type": "code",
   "execution_count": 43,
   "metadata": {},
   "outputs": [],
   "source": [
    "from sklearn.decomposition import PCA\n",
    "components = []\n",
    "\n",
    "for i in range(44):\n",
    "    components.append(i+1)\n",
    "\n",
    "train_error = []\n",
    "test_error = []\n",
    "\n",
    "for num in components:\n",
    "    pca = PCA(n_components=num)\n",
    "    X_pca = pca.fit_transform(X)\n",
    "    X_train, X_test, y_train, y_test = train_test_split(X_pca, y, test_size = 0.3, random_state = 42)\n",
    "    knn = KNeighborsClassifier(n_neighbors = 1)\n",
    "    knn.fit(X_train, y_train)\n",
    "    \n",
    "    train_error.append(np.mean(y_train != knn.predict(X_train)))\n",
    "    test_error.append(np.mean(y_test != knn.predict(X_test)))"
   ]
  },
  {
   "cell_type": "code",
   "execution_count": 44,
   "metadata": {},
   "outputs": [
    {
     "name": "stdout",
     "output_type": "stream",
     "text": [
      "Массив ошибок на тестовой выборке:  [0.051, 0.050333333333333334, 0.052583333333333336, 0.05333333333333334, 0.05675, 0.0525, 0.052333333333333336, 0.058583333333333334, 0.05125, 0.052, 0.0535, 0.05608333333333333, 0.05633333333333333, 0.053, 0.05533333333333333, 0.0535, 0.05125, 0.058333333333333334, 0.05591666666666667, 0.05583333333333333, 0.05533333333333333, 0.0565, 0.050333333333333334, 0.051916666666666667, 0.0515, 0.051166666666666666, 0.05341666666666667, 0.05375, 0.05558333333333333, 0.05308333333333334, 0.05366666666666667, 0.05308333333333334, 0.05383333333333333, 0.051833333333333335, 0.05291666666666667, 0.052083333333333336, 0.052083333333333336, 0.052083333333333336, 0.052083333333333336, 0.052083333333333336, 0.052083333333333336, 0.052083333333333336, 0.052083333333333336, 0.052083333333333336]\n"
     ]
    }
   ],
   "source": [
    "print('Массив ошибок на тестовой выборке: ', test_error)"
   ]
  },
  {
   "cell_type": "code",
   "execution_count": 45,
   "metadata": {},
   "outputs": [
    {
     "data": {
      "image/png": "[encoded data removed]",
      "text/plain": [
       "<Figure size 432x288 with 1 Axes>"
      ]
     },
     "metadata": {
      "needs_background": "light"
     },
     "output_type": "display_data"
    }
   ],
   "source": [
    "plt.figure()\n",
    "plt.plot(components, train_error, 'b-o', label = 'train error')\n",
    "plt.plot(components, test_error, 'r-o', label = 'test error')\n",
    "plt.xlim([1, 44])\n",
    "plt.title('PCA')\n",
    "plt.xlabel('Components num')\n",
    "plt.ylabel('Error')\n",
    "plt.legend()\n",
    "plt.show()"
   ]
  },
  {
   "cell_type": "code",
   "execution_count": 46,
   "metadata": {},
   "outputs": [
    {
     "data": {
      "text/plain": [
       "0.050333333333333334"
      ]
     },
     "execution_count": 46,
     "metadata": {},
     "output_type": "execute_result"
    }
   ],
   "source": [
    "np.min(test_error)"
   ]
  },
  {
   "cell_type": "code",
   "execution_count": 47,
   "metadata": {},
   "outputs": [
    {
     "data": {
      "text/plain": [
       "1"
      ]
     },
     "execution_count": 47,
     "metadata": {},
     "output_type": "execute_result"
    }
   ],
   "source": [
    "np.argmin(test_error)"
   ]
  },
  {
   "cell_type": "markdown",
   "metadata": {},
   "source": [
    "ЛР №3"
   ]
  },
  {
   "cell_type": "code",
   "execution_count": 48,
   "metadata": {},
   "outputs": [],
   "source": [
    "from sklearn.neural_network import MLPClassifier"
   ]
  },
  {
   "cell_type": "code",
   "execution_count": 49,
   "metadata": {},
   "outputs": [
    {
     "data": {
      "text/plain": [
       "MLPClassifier(activation='logistic', alpha=0.0001, batch_size='auto',\n",
       "              beta_1=0.9, beta_2=0.999, early_stopping=False, epsilon=1e-08,\n",
       "              hidden_layer_sizes=(100, 50), learning_rate='constant',\n",
       "              learning_rate_init=0.001, max_iter=200, momentum=0.9,\n",
       "              n_iter_no_change=10, nesterovs_momentum=True, power_t=0.5,\n",
       "              random_state=42, shuffle=True, solver='lbfgs', tol=0.0001,\n",
       "              validation_fraction=0.1, verbose=False, warm_start=False)"
      ]
     },
     "execution_count": 49,
     "metadata": {},
     "output_type": "execute_result"
    }
   ],
   "source": [
    "mlp_model = MLPClassifier(hidden_layer_sizes = (100,50), solver = 'lbfgs', \n",
    "                          activation = 'logistic', random_state = 42)\n",
    "mlp_model.fit(X_train, y_train)"
   ]
  },
  {
   "cell_type": "code",
   "execution_count": 50,
   "metadata": {},
   "outputs": [],
   "source": [
    "y_train_pred = mlp_model.predict(X_train)\n",
    "y_test_pred = mlp_model.predict(X_test)"
   ]
  },
  {
   "cell_type": "code",
   "execution_count": 51,
   "metadata": {},
   "outputs": [
    {
     "name": "stdout",
     "output_type": "stream",
     "text": [
      "Train error: 0.029536769170327513, Test error: 0.026083333333333333\n"
     ]
    }
   ],
   "source": [
    "print('Train error: {}, Test error: {}'.format(np.mean(y_train != y_train_pred), np.mean(y_test != y_test_pred)))"
   ]
  },
  {
   "cell_type": "code",
   "execution_count": 52,
   "metadata": {},
   "outputs": [],
   "source": [
    "alpha_arr = np.logspace(-3, 2, 21)\n",
    "test_err = []\n",
    "train_err = []\n",
    "for alpha in alpha_arr:\n",
    "    mlp_model = MLPClassifier(alpha = alpha, hidden_layer_sizes = (100,50), \n",
    "                              solver = 'lbfgs', activation = 'logistic', random_state = 42)\n",
    "    mlp_model.fit(X_train, y_train)\n",
    "\n",
    "    y_train_pred = mlp_model.predict(X_train)\n",
    "    y_test_pred = mlp_model.predict(X_test)\n",
    "    train_err.append(np.mean(y_train != y_train_pred))\n",
    "    test_err.append(np.mean(y_test != y_test_pred))\n"
   ]
  },
  {
   "cell_type": "code",
   "execution_count": 53,
   "metadata": {},
   "outputs": [
    {
     "data": {
      "image/png": "[encoded data removed]",
      "text/plain": [
       "<Figure size 432x288 with 1 Axes>"
      ]
     },
     "metadata": {
      "needs_background": "light"
     },
     "output_type": "display_data"
    }
   ],
   "source": [
    "plt.semilogx(alpha_arr, test_err, 'b-o', label = 'test')\n",
    "plt.semilogx(alpha_arr, train_err, 'r-o', label = 'train')\n",
    "plt.xlim([np.max(alpha_arr), np.min(alpha_arr)])\n",
    "plt.title('Error vs. alpha')\n",
    "plt.xlabel('alpha')\n",
    "plt.ylabel('error')\n",
    "plt.legend()\n",
    "pass"
   ]
  },
  {
   "cell_type": "code",
   "execution_count": 54,
   "metadata": {},
   "outputs": [
    {
     "name": "stdout",
     "output_type": "stream",
     "text": [
      "Min train error: 0.029572484731597556, \tMin test error: 0.026083333333333333\n",
      "Alpha:  0.001\n"
     ]
    }
   ],
   "source": [
    "min_train_err = np.min(train_err)\n",
    "min_test_err = np.min(test_err)\n",
    "alpha_opt = alpha_arr[test_err == min_test_err][0]\n",
    "\n",
    "print('Min train error: {}, \\tMin test error: {}'.format(min_train_err, min_test_err))\n",
    "print('Alpha: ', alpha_opt)"
   ]
  },
  {
   "cell_type": "code",
   "execution_count": 55,
   "metadata": {},
   "outputs": [
    {
     "name": "stdout",
     "output_type": "stream",
     "text": [
      "Train error: 0.029572484731597556, Test error: 0.026083333333333333\n"
     ]
    }
   ],
   "source": [
    "mlp_model = MLPClassifier(alpha = alpha_opt, hidden_layer_sizes = (100, 50),\n",
    "                          solver = 'lbfgs', activation = 'logistic', random_state = 42)\n",
    "mlp_model.fit(X_train, y_train)\n",
    "\n",
    "y_train_pred = mlp_model.predict(X_train)\n",
    "y_test_pred = mlp_model.predict(X_test)\n",
    "\n",
    "print('Train error: {}, Test error: {}'.format(np.mean(y_train != y_train_pred), np.mean(y_test != y_test_pred)))"
   ]
  },
  {
   "cell_type": "code",
   "execution_count": 56,
   "metadata": {},
   "outputs": [],
   "source": [
    "neurons_arr = np.arange(10,150, 5)\n",
    "test_err = []\n",
    "train_err = []\n",
    "for neuron in neurons_arr:\n",
    "    mlp_model = MLPClassifier(alpha = alpha_opt, hidden_layer_sizes = (neuron, 50), \n",
    "                              solver = 'lbfgs', activation = 'logistic', random_state = 42)\n",
    "    mlp_model.fit(X_train, y_train)\n",
    "\n",
    "    y_train_pred = mlp_model.predict(X_train)\n",
    "    y_test_pred = mlp_model.predict(X_test)\n",
    "    train_err.append(np.mean(y_train != y_train_pred))\n",
    "    test_err.append(np.mean(y_test != y_test_pred))"
   ]
  },
  {
   "cell_type": "code",
   "execution_count": 57,
   "metadata": {},
   "outputs": [
    {
     "data": {
      "image/png": "[encoded data removed]",
      "text/plain": [
       "<Figure size 432x288 with 1 Axes>"
      ]
     },
     "metadata": {
      "needs_background": "light"
     },
     "output_type": "display_data"
    }
   ],
   "source": [
    "plt.semilogx(neurons_arr, test_err, 'b-o', label = 'test')\n",
    "plt.semilogx(neurons_arr, train_err, 'r-o', label = 'train')\n",
    "plt.xlim([np.max(neurons_arr), np.min(neurons_arr)])\n",
    "plt.title('Error vs. neuron')\n",
    "plt.xlabel('neuron')\n",
    "plt.ylabel('error')\n",
    "plt.legend()\n",
    "pass"
   ]
  },
  {
   "cell_type": "code",
   "execution_count": 58,
   "metadata": {},
   "outputs": [
    {
     "name": "stdout",
     "output_type": "stream",
     "text": [
      "Min train error: 0.029501053609057467, \tMin test error: 0.026083333333333333\n",
      "Neuron:  10\n"
     ]
    }
   ],
   "source": [
    "min_train_err = np.min(train_err)\n",
    "min_test_err = np.min(test_err)\n",
    "neuron_opt = neurons_arr[test_err == min_test_err][0]\n",
    "\n",
    "print('Min train error: {}, \\tMin test error: {}'.format(min_train_err, min_test_err))\n",
    "print('Neuron: ', neuron_opt)"
   ]
  },
  {
   "cell_type": "code",
   "execution_count": 59,
   "metadata": {},
   "outputs": [
    {
     "name": "stdout",
     "output_type": "stream",
     "text": [
      "Train error: 0.029572484731597556, Test error: 0.026083333333333333\n"
     ]
    }
   ],
   "source": [
    "mlp_model = MLPClassifier(alpha = alpha_opt, hidden_layer_sizes = (neuron_opt, 50),\n",
    "                          solver = 'lbfgs', activation = 'logistic', random_state = 42)\n",
    "mlp_model.fit(X_train, y_train)\n",
    "\n",
    "y_train_pred = mlp_model.predict(X_train)\n",
    "y_test_pred = mlp_model.predict(X_test)\n",
    "\n",
    "print('Train error: {}, Test error: {}'.format(np.mean(y_train != y_train_pred), np.mean(y_test != y_test_pred)))"
   ]
  },
  {
   "cell_type": "markdown",
   "metadata": {},
   "source": [
    "Random forests"
   ]
  },
  {
   "cell_type": "code",
   "execution_count": 60,
   "metadata": {},
   "outputs": [],
   "source": [
    "from sklearn.ensemble import RandomForestClassifier\n",
    "\n",
    "estiamtors = np.arange(500,1500, 100)\n",
    "test_err = []\n",
    "train_err = []\n",
    "oob_score = []\n",
    "for estimator in estiamtors:\n",
    "    rf = RandomForestClassifier(n_estimators = estimator, random_state = 42, oob_score=True)\n",
    "    rf.fit(X_train, y_train)\n",
    "\n",
    "    y_train_pred = rf.predict(X_train)\n",
    "    y_test_pred = rf.predict(X_test)\n",
    "    train_err.append(np.mean(y_train != y_train_pred))\n",
    "    test_err.append(np.mean(y_test != y_test_pred))\n",
    "    oob_score.append(rf.oob_score_)"
   ]
  },
  {
   "cell_type": "code",
   "execution_count": 61,
   "metadata": {},
   "outputs": [
    {
     "data": {
      "image/png": "[encoded data removed]",
      "text/plain": [
       "<Figure size 432x288 with 1 Axes>"
      ]
     },
     "metadata": {
      "needs_background": "light"
     },
     "output_type": "display_data"
    }
   ],
   "source": [
    "plt.semilogx(estiamtors, train_err, 'b-o', label = 'train')\n",
    "plt.semilogx(estiamtors, test_err, 'r-o', label = 'test')\n",
    "plt.semilogx(estiamtors, np.ones(len(oob_score))-oob_score, 'g-o', label = 'oob-error')\n",
    "plt.xlim([np.max(estiamtors), np.min(estiamtors)])\n",
    "plt.title('Error vs. estimators')\n",
    "plt.xlabel('estimators')\n",
    "plt.ylabel('error')\n",
    "plt.legend()\n",
    "pass"
   ]
  },
  {
   "cell_type": "code",
   "execution_count": 62,
   "metadata": {},
   "outputs": [
    {
     "name": "stdout",
     "output_type": "stream",
     "text": [
      "Min train error: 0.024965177327761705, \tMin test error: 0.028833333333333332\n",
      "Estimators:  700\n"
     ]
    }
   ],
   "source": [
    "min_train_err = np.min(train_err)\n",
    "min_test_err = np.min(test_err)\n",
    "estimators_opt = estiamtors[test_err == min_test_err][0]\n",
    "\n",
    "print('Min train error: {}, \\tMin test error: {}'.format(min_train_err, min_test_err))\n",
    "print('Estimators: ', estimators_opt)"
   ]
  },
  {
   "cell_type": "markdown",
   "metadata": {},
   "source": [
    "Gradient boosted trees"
   ]
  },
  {
   "cell_type": "code",
   "execution_count": 63,
   "metadata": {},
   "outputs": [],
   "source": [
    "from sklearn.ensemble import GradientBoostingClassifier\n",
    "\n",
    "estiamtors = np.arange(900,1200, 100)\n",
    "test_err = []\n",
    "train_err = []\n",
    "for estimator in estiamtors:\n",
    "    gbt = GradientBoostingClassifier(n_estimators = estimator, random_state = 42)\n",
    "    gbt.fit(X_train, y_train)\n",
    "\n",
    "    y_train_pred = gbt.predict(X_train)\n",
    "    y_test_pred = gbt.predict(X_test)\n",
    "    train_err.append(np.mean(y_train != y_train_pred))\n",
    "    test_err.append(np.mean(y_test != y_test_pred))"
   ]
  },
  {
   "cell_type": "code",
   "execution_count": 64,
   "metadata": {},
   "outputs": [
    {
     "data": {
      "image/png": "[encoded data removed]",
      "text/plain": [
       "<Figure size 432x288 with 1 Axes>"
      ]
     },
     "metadata": {
      "needs_background": "light"
     },
     "output_type": "display_data"
    }
   ],
   "source": [
    "plt.semilogx(estiamtors, train_err, 'b-o', label = 'train')\n",
    "plt.semilogx(estiamtors, test_err, 'r-o', label = 'test')\n",
    "plt.xlim([np.max(estiamtors), np.min(estiamtors)])\n",
    "plt.title('Error vs. estimators')\n",
    "plt.xlabel('estimators')\n",
    "plt.ylabel('error')\n",
    "plt.legend()\n",
    "pass"
   ]
  },
  {
   "cell_type": "code",
   "execution_count": 65,
   "metadata": {},
   "outputs": [
    {
     "name": "stdout",
     "output_type": "stream",
     "text": [
      "Min train error: 0.025893781920782885, \tMin test error: 0.0285\n",
      "Estimators:  900\n"
     ]
    }
   ],
   "source": [
    "min_train_err = np.min(train_err)\n",
    "min_test_err = np.min(test_err)\n",
    "estimators_opt = estiamtors[test_err == min_test_err][0]\n",
    "\n",
    "print('Min train error: {}, \\tMin test error: {}'.format(min_train_err, min_test_err))\n",
    "print('Estimators: ', estimators_opt)"
   ]
  }
 ],
 "metadata": {
  "kernelspec": {
   "display_name": "Python 3",
   "language": "python",
   "name": "python3"
  },
  "language_info": {
   "codemirror_mode": {
    "name": "ipython",
    "version": 3
   },
   "file_extension": ".py",
   "mimetype": "text/x-python",
   "name": "python",
   "nbconvert_exporter": "python",
   "pygments_lexer": "ipython3",
   "version": "3.7.4"
  }
 },
 "nbformat": 4,
 "nbformat_minor": 4
}
